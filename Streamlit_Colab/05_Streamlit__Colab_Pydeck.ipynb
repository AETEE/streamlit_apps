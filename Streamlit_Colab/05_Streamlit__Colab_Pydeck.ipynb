{
  "nbformat": 4,
  "nbformat_minor": 0,
  "metadata": {
    "colab": {
      "name": "05_Streamlit__Colab_Pydeck.ipynb",
      "provenance": [],
      "collapsed_sections": [],
      "toc_visible": true,
      "include_colab_link": true
    },
    "kernelspec": {
      "name": "python3",
      "display_name": "Python 3"
    }
  },
  "cells": [
    {
      "cell_type": "markdown",
      "metadata": {
        "id": "view-in-github",
        "colab_type": "text"
      },
      "source": [
        "<a href=\"https://colab.research.google.com/github/napoles-uach/streamlit_apps/blob/main/Streamlit_Colab/05_Streamlit__Colab_Pydeck.ipynb\" target=\"_parent\"><img src=\"https://colab.research.google.com/assets/colab-badge.svg\" alt=\"Open In Colab\"/></a>"
      ]
    },
    {
      "cell_type": "markdown",
      "metadata": {
        "id": "HfYLXRVBWc5B"
      },
      "source": [
        "# Tutorial 5. All Schools in France by Dorian Massoulier. Streamlit app borrowed from this [post](https://discuss.streamlit.io/t/all-schools-of-france/7531). \n",
        "## This notebook shows how to deploy an Streamlit app on top of Google Colaboratory.\n",
        "\n",
        "![](https://github.com/napoles-uach/streamlit_apps/blob/main/Streamlit_Colab/Images/05.png?raw=True)\n",
        "\n",
        "## 1) Run all and click the \"**Link to web app**\" (ignore the output of the last cell).\n",
        "## 2) Modify the code in `app.py`\n"
      ]
    },
    {
      "cell_type": "markdown",
      "metadata": {
        "id": "Dyplci-0ZdXM"
      },
      "source": [
        "# Setup\n",
        "(pip install what you need ...) "
      ]
    },
    {
      "cell_type": "markdown",
      "metadata": {
        "id": "NOO9ZD-raKFj"
      },
      "source": [
        "Installation of Streamlit of course!!"
      ]
    },
    {
      "cell_type": "code",
      "metadata": {
        "id": "qRQMMZ5qDI_E"
      },
      "source": [
        "!pip install streamlit -q"
      ],
      "execution_count": null,
      "outputs": []
    },
    {
      "cell_type": "markdown",
      "metadata": {
        "id": "GAT2O6ySaSNa"
      },
      "source": [
        "Here we use the ngrok cloud service. Don't change this!!"
      ]
    },
    {
      "cell_type": "code",
      "metadata": {
        "id": "gB-RFLEtDUfE"
      },
      "source": [
        "!wget https://bin.equinox.io/c/4VmDzA7iaHb/ngrok-stable-linux-amd64.zip\n",
        "!unzip -qq ngrok-stable-linux-amd64.zip"
      ],
      "execution_count": null,
      "outputs": []
    },
    {
      "cell_type": "markdown",
      "metadata": {
        "id": "Cphby1-RIu5R"
      },
      "source": [
        "# Sometimes you have to run the cell below a couple of times to get the link to the app.\n",
        "Use the output here!!"
      ]
    },
    {
      "cell_type": "code",
      "metadata": {
        "id": "ildaf7SEDcKh"
      },
      "source": [
        "print('Link to web app')\n",
        "get_ipython().system_raw('./ngrok http 8501 &')\n",
        "! curl -s http://localhost:4040/api/tunnels | python3 -c \\\n",
        "    \"import sys, json; print(json.load(sys.stdin)['tunnels'][0]['public_url'])\""
      ],
      "execution_count": null,
      "outputs": []
    },
    {
      "cell_type": "markdown",
      "metadata": {
        "id": "Pjl8MssXasJF"
      },
      "source": [
        "The following is the `app.py` base code. It can be modified in the cell or in the folder to the left."
      ]
    },
    {
      "cell_type": "code",
      "metadata": {
        "id": "nrI8dgogDf5b"
      },
      "source": [
        "%%bash\n",
        "cat > app.py <<EOF\n",
        "import streamlit as st\n",
        "\n",
        "\"\"\"Une visualisation des écoles en france: Primaire et secondaire\"\"\"\n",
        "import os\n",
        "import time\n",
        "import streamlit as st\n",
        "import pandas as pd \n",
        "import pydeck as pdk\n",
        "\n",
        "#LOADING DATA\n",
        "\n",
        "ECOLES_DATA = 'https://raw.githubusercontent.com/MassDo/Ecoles/master/jupyter/data/ecoles_data.csv'\n",
        "ECOLE_DATA = 'https://raw.githubusercontent.com/MassDo/Ecoles/master/jupyter/data/ecole.csv'\n",
        "COLLEGE_DATA = 'https://raw.githubusercontent.com/MassDo/Ecoles/master/jupyter/data/college.csv'\n",
        "LYCEE_DATA = 'https://raw.githubusercontent.com/MassDo/Ecoles/master/jupyter/data/lycee.csv'\n",
        "start = 1\n",
        "\n",
        "lg = {    \n",
        "    #\"demo\": ['Vidéo de démonstration', 'Demo video'],\n",
        "    \"title\":['Écoles en France ⬇️', 'Schools in France ⬇️'],\n",
        "    \"lang\":['Choisissez votre langue', 'Choose your language'],\n",
        "    \"dimension\": ['Voir en 2D ?', 'See in 2D ?'],\n",
        "    \"legende_with\": [\"Largeur d'une cononne\", 'Cell width'],\n",
        "    \"sidebar_data\": [\"Données\", 'Data'],\n",
        "    \"sidebar_data_raw\": [\"Voir les données brutes\", 'See raw data'],\n",
        "    \"sidebar_data1\": [\"Toutes les écoles\", 'All schools'],\n",
        "    \"sidebar_data2\": [\"Écoles primaires\", 'Primary schools'],\n",
        "    \"sidebar_data3\": [\"Collèges\", 'Middle School'],\n",
        "    \"sidebar_data4\": [\"Lycées\", 'High school'],\n",
        "    \"sidebar_county\": [\"Département\", 'County'],\n",
        "    \"sidebar_radius\": [\"Diamètre d'un ⬡ (mètres)\", 'Diameter of ⬡ (meters)'],\n",
        "    \"sidebar_height\": [\"Hauteur\", 'Height'],\n",
        "    \"sidebar_opacity\": [\"Transparence\", 'Opacity'],\n",
        "}\n",
        "@st.cache\n",
        "def load_data(url):\n",
        "    df = pd.read_csv(url)\n",
        "    return df\n",
        "\n",
        "@st.cache\n",
        "def filter_data(df, county):\n",
        "    data = pd.DataFrame()\n",
        "    frames = []\n",
        "    for c in county:\n",
        "        if len(c) == 1:\n",
        "            c = \"0\" + c\n",
        "        frames.append(df[df['Code_departement'] == str(c)])\n",
        "        data = pd.concat(frames)\n",
        "    return data\n",
        "\n",
        "# LAYER \n",
        "def mapp(data):    \n",
        "    # Set the viewport location\n",
        "    view_state = pdk.ViewState(\n",
        "        longitude=2.415,\n",
        "        latitude=46,\n",
        "        zoom=5,\n",
        "        min_zoom=1,\n",
        "        max_zoom=20,\n",
        "        pitch=40.5,\n",
        "        bearing=-27.36,\n",
        "    )    \n",
        "    # Define a layer to display on a map\n",
        "    ecoles=pdk.Layer(\n",
        "        \"HexagonLayer\",\n",
        "        data,\n",
        "        get_position=[\"longitude\", \"latitude\"],\n",
        "        #get_position=[\"longitude\", \"latitude\"],\n",
        "        auto_highlight=True,\n",
        "        elevation_scale=hauteur,\n",
        "        pickable=True,\n",
        "        elevation_range=[0, 2000],\n",
        "        extruded=extruded,\n",
        "        coverage=1,\n",
        "        radius= radius,\n",
        "        opacity=opacity\n",
        "    )\n",
        "    st.pydeck_chart(pdk.Deck(\n",
        "        layers=[ecoles],\n",
        "        initial_view_state=view_state, \n",
        "        tooltip={\n",
        "            \"text\": \"Number of schools: {elevationValue}\"\n",
        "        },\n",
        "        )        \n",
        "    )\n",
        "\n",
        "if __name__ == '__main__':\n",
        "    \n",
        "    # HEAD    \n",
        "    with st.beta_expander(\"Language\"):\n",
        "        language = st.radio('',('En', 'Fr'))\n",
        "        if language == 'En':\n",
        "            language = 1\n",
        "        else:\n",
        "            language = 0\n",
        "    #video_file = open('video/demo.webm', 'rb')\n",
        "    #video_bytes = video_file.read()\n",
        "    #with st.beta_expander(lg['demo'][language]):\n",
        "    #    st.video(video_bytes)\n",
        "    st.title(lg['title'][language])\n",
        "    extruded_cb = st.checkbox(lg['dimension'][language])\n",
        "    extruded = True\n",
        "    if extruded_cb:\n",
        "        extruded = False\n",
        "                   \n",
        "    # SIDEBAR\n",
        "    with st.sidebar.beta_expander(lg['sidebar_data'][language]):\n",
        "        url = ''\n",
        "        f\"\"\"[{lg['sidebar_data_raw'][language]}](https://data.education.gouv.fr/explore/dataset/fr-en-annuaire-education/export/?disjunctive.nom_etablissement&disjunctive.type_etablissement&disjunctive.appartenance_education_prioritaire&disjunctive.type_contrat_prive&disjunctive.code_type_contrat_prive&disjunctive.pial)\"\"\"\n",
        "        school_name = st.radio(\n",
        "            '', \n",
        "            (lg['sidebar_data1'][language], lg['sidebar_data2'][language], lg['sidebar_data3'][language], lg['sidebar_data4'][language])\n",
        "        )\n",
        "        if school_name == lg['sidebar_data1'][language]:\n",
        "            url = ECOLES_DATA\n",
        "        elif school_name == lg['sidebar_data2'][language]:\n",
        "            url = ECOLE_DATA\n",
        "        elif school_name == lg['sidebar_data3'][language]:\n",
        "            url = COLLEGE_DATA\n",
        "        elif school_name == lg['sidebar_data4'][language]:\n",
        "            url = LYCEE_DATA\n",
        "        \n",
        "        county = [str(c) for c in st.multiselect(\n",
        "            lg['sidebar_county'][language],\n",
        "            range(1, 96)\n",
        "        )]\n",
        "        \n",
        "    with st.sidebar.beta_expander(lg['sidebar_radius'][language]):\n",
        "        radius = st.slider(\"\", 100, 20000, 10000, 100) // 2\n",
        "\n",
        "    with st.sidebar.beta_expander(lg['sidebar_height'][language]):\n",
        "        hauteur = st.slider(\"\",1, 200, 100, 10)\n",
        "\n",
        "    with st.sidebar.beta_expander(lg['sidebar_opacity'][language]):\n",
        "        opacity = st.slider('', 0.01, 1.0, 1.0, 0.01)  \n",
        "\n",
        "    # MAP\n",
        "    f\"\"\"{lg['sidebar_radius'][language]}: **{radius*2}m** - {lg['sidebar_data'][language]}: **{school_name}**\"\"\"\n",
        "    if county:\n",
        "        df = load_data(url)\n",
        "        data = filter_data(df, county)\n",
        "        mapp(data)\n",
        "    else:\n",
        "        mapp(url)\n",
        "\n",
        "# Put your Python+Streamlit code here ...\n",
        "# you can modify it by double cliking on the folder icon at the left\n",
        "\n",
        "\n",
        "\n",
        "EOF"
      ],
      "execution_count": 9,
      "outputs": []
    },
    {
      "cell_type": "markdown",
      "metadata": {
        "id": "x78MWzB6bF_A"
      },
      "source": [
        "This last cell would keep the app running. If stoped, the app woul be disconnected."
      ]
    },
    {
      "cell_type": "code",
      "metadata": {
        "id": "FTUt5JjyDkUz"
      },
      "source": [
        "!streamlit run app.py"
      ],
      "execution_count": null,
      "outputs": []
    }
  ]
}