{
  "nbformat": 4,
  "nbformat_minor": 0,
  "metadata": {
    "colab": {
      "name": "08_Streamlit__Colab_text2image.ipynb",
      "provenance": [],
      "collapsed_sections": [],
      "include_colab_link": true
    },
    "kernelspec": {
      "name": "python3",
      "display_name": "Python 3"
    }
  },
  "cells": [
    {
      "cell_type": "markdown",
      "metadata": {
        "id": "view-in-github",
        "colab_type": "text"
      },
      "source": [
        "<a href=\"https://colab.research.google.com/github/napoles-uach/streamlit_apps/blob/main/Streamlit_Colab/08_Streamlit__Colab_text2image.ipynb\" target=\"_parent\"><img src=\"https://colab.research.google.com/assets/colab-badge.svg\" alt=\"Open In Colab\"/></a>"
      ]
    },
    {
      "cell_type": "markdown",
      "metadata": {
        "id": "HfYLXRVBWc5B"
      },
      "source": [
        "# Tutorial 0. Make your streamlit app. \n",
        "## This notebook shows how to deploy an Streamlit app on top of Google Colaboratory.\n",
        "\n",
        "\n",
        "\n",
        "## 1) Run all and click the \"**Link to web app**\" (ignore the output of the last cell).\n",
        "## 2) Modify the code in `app.py`\n"
      ]
    },
    {
      "cell_type": "markdown",
      "metadata": {
        "id": "Dyplci-0ZdXM"
      },
      "source": [
        "# Setup\n",
        "(pip install what you need ...) "
      ]
    },
    {
      "cell_type": "code",
      "metadata": {
        "id": "m8Rx0kJiSWm2"
      },
      "source": [
        "!apt install imagemagick"
      ],
      "execution_count": null,
      "outputs": []
    },
    {
      "cell_type": "markdown",
      "metadata": {
        "id": "NOO9ZD-raKFj"
      },
      "source": [
        "Installation of Streamlit of course!!"
      ]
    },
    {
      "cell_type": "code",
      "metadata": {
        "id": "qRQMMZ5qDI_E"
      },
      "source": [
        "!pip install streamlit"
      ],
      "execution_count": null,
      "outputs": []
    },
    {
      "cell_type": "markdown",
      "metadata": {
        "id": "GAT2O6ySaSNa"
      },
      "source": [
        "Here we use the ngrok cloud service. Don't change this!!"
      ]
    },
    {
      "cell_type": "code",
      "metadata": {
        "id": "gB-RFLEtDUfE"
      },
      "source": [
        "!wget https://bin.equinox.io/c/4VmDzA7iaHb/ngrok-stable-linux-amd64.zip\n",
        "!unzip -qq ngrok-stable-linux-amd64.zip"
      ],
      "execution_count": null,
      "outputs": []
    },
    {
      "cell_type": "markdown",
      "metadata": {
        "id": "Cphby1-RIu5R"
      },
      "source": [
        "# Sometimes you have to run the cell below a couple of times to get the link to the app.\n",
        "Use the output here!!"
      ]
    },
    {
      "cell_type": "code",
      "metadata": {
        "id": "ildaf7SEDcKh"
      },
      "source": [
        "print('Link to web app')\n",
        "get_ipython().system_raw('./ngrok http 8501 &')\n",
        "! curl -s http://localhost:4040/api/tunnels | python3 -c \\\n",
        "    \"import sys, json; print(json.load(sys.stdin)['tunnels'][0]['public_url'])\""
      ],
      "execution_count": null,
      "outputs": []
    },
    {
      "cell_type": "markdown",
      "metadata": {
        "id": "Pjl8MssXasJF"
      },
      "source": [
        "The following is the `app.py` base code. It can be modified in the cell or in the folder to the left."
      ]
    },
    {
      "cell_type": "code",
      "metadata": {
        "id": "nrI8dgogDf5b"
      },
      "source": [
        "%%bash\n",
        "cat > app.py <<EOF\n",
        "import streamlit as st\n",
        "import os\n",
        "#st.title('Empty app :rocket:')\n",
        "\n",
        "# Put your Python+Streamlit code here ...\n",
        "# you can modify it by double cliking on the folder icon at the left\n",
        "\n",
        "text=st.sidebar.text_input('enter the text')\n",
        "pnt_sz=st.sidebar.number_input('Enter the point size',20)\n",
        "var1= '\"{0}\"'.format(text)\n",
        "\n",
        "\n",
        "cmd=\"convert -size 800x200 xc:White -gravity Center   -weight 700 -pointsize {1}  -annotate 0 {0}   image.png\".format(var1,pnt_sz)\n",
        "\n",
        "os.system(cmd)\n",
        "\n",
        "st.image('./image.png')\n",
        "\n",
        "EOF"
      ],
      "execution_count": 17,
      "outputs": []
    },
    {
      "cell_type": "markdown",
      "metadata": {
        "id": "x78MWzB6bF_A"
      },
      "source": [
        "This last cell would keep the app running. If stoped, the app woul be disconnected."
      ]
    },
    {
      "cell_type": "code",
      "metadata": {
        "id": "FTUt5JjyDkUz",
        "colab": {
          "base_uri": "https://localhost:8080/"
        },
        "outputId": "830b8656-8700-461e-b0bc-be806c4052ea"
      },
      "source": [
        "!streamlit run app.py"
      ],
      "execution_count": 20,
      "outputs": [
        {
          "output_type": "stream",
          "text": [
            "\u001b[0m\n",
            "\u001b[34m\u001b[1m  You can now view your Streamlit app in your browser.\u001b[0m\n",
            "\u001b[0m\n",
            "\u001b[34m  Network URL: \u001b[0m\u001b[1mhttp://172.28.0.2:8501\u001b[0m\n",
            "\u001b[34m  External URL: \u001b[0m\u001b[1mhttp://34.75.224.113:8501\u001b[0m\n",
            "\u001b[0m\n",
            "\u001b[34m  Stopping...\u001b[0m\n"
          ],
          "name": "stdout"
        }
      ]
    }
  ]
}