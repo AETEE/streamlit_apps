{
  "nbformat": 4,
  "nbformat_minor": 0,
  "metadata": {
    "colab": {
      "name": "02_Streamlit__Colab_Networkx.ipynb",
      "provenance": [],
      "collapsed_sections": [],
      "include_colab_link": true
    },
    "kernelspec": {
      "name": "python3",
      "display_name": "Python 3"
    }
  },
  "cells": [
    {
      "cell_type": "markdown",
      "metadata": {
        "id": "view-in-github",
        "colab_type": "text"
      },
      "source": [
        "<a href=\"https://colab.research.google.com/github/napoles-uach/streamlit_apps/blob/main/Streamlit_Colab/02_Streamlit__Colab_Networkx.ipynb\" target=\"_parent\"><img src=\"https://colab.research.google.com/assets/colab-badge.svg\" alt=\"Open In Colab\"/></a>"
      ]
    },
    {
      "cell_type": "markdown",
      "metadata": {
        "id": "HfYLXRVBWc5B"
      },
      "source": [
        "# Tutorial 2. Make graphs in your streamlit app. \n",
        "## This notebook shows how to deploy an Streamlit app on top of Google Colaboratory + Networkx.\n",
        "\n",
        "![](https://github.com/napoles-uach/streamlit_apps/blob/main/Streamlit_Colab/Images/02.png?raw=True)\n",
        "\n",
        "## 1) Run all and click the \"**Link to web app**\" (ignore the output of the last cell).\n",
        "## 2) Modify the code in `app.py`\n"
      ]
    },
    {
      "cell_type": "markdown",
      "metadata": {
        "id": "Dyplci-0ZdXM"
      },
      "source": [
        "# Setup\n",
        "(Do not need to install networkx.) "
      ]
    },
    {
      "cell_type": "markdown",
      "metadata": {
        "id": "NOO9ZD-raKFj"
      },
      "source": [
        "Installation of Streamlit of course!!"
      ]
    },
    {
      "cell_type": "code",
      "metadata": {
        "id": "qRQMMZ5qDI_E"
      },
      "source": [
        "!pip install streamlit -q"
      ],
      "execution_count": null,
      "outputs": []
    },
    {
      "cell_type": "markdown",
      "metadata": {
        "id": "GAT2O6ySaSNa"
      },
      "source": [
        "Here we use the ngrok cloud service. Don't change this!!"
      ]
    },
    {
      "cell_type": "code",
      "metadata": {
        "id": "gB-RFLEtDUfE"
      },
      "source": [
        "!wget https://bin.equinox.io/c/4VmDzA7iaHb/ngrok-stable-linux-amd64.zip\n",
        "!unzip -qq ngrok-stable-linux-amd64.zip"
      ],
      "execution_count": null,
      "outputs": []
    },
    {
      "cell_type": "markdown",
      "metadata": {
        "id": "Cphby1-RIu5R"
      },
      "source": [
        "# Sometimes you have to run the cell below a couple of times to get the link to the app.\n",
        "Use the output here!!"
      ]
    },
    {
      "cell_type": "code",
      "metadata": {
        "id": "ildaf7SEDcKh"
      },
      "source": [
        "print('Link to web app')\n",
        "get_ipython().system_raw('./ngrok http 8501 &')\n",
        "! curl -s http://localhost:4040/api/tunnels | python3 -c \\\n",
        "    \"import sys, json; print(json.load(sys.stdin)['tunnels'][0]['public_url'])\""
      ],
      "execution_count": null,
      "outputs": []
    },
    {
      "cell_type": "markdown",
      "metadata": {
        "id": "Pjl8MssXasJF"
      },
      "source": [
        "The following is the `app.py` base code. It can be modified in the cell or in the folder to the left."
      ]
    },
    {
      "cell_type": "code",
      "metadata": {
        "id": "nrI8dgogDf5b"
      },
      "source": [
        "%%bash\n",
        "cat > app.py <<EOF\n",
        "import streamlit as st\n",
        "import streamlit as st\n",
        "import networkx as nx\n",
        "import matplotlib.pyplot as plt\n",
        "\n",
        "st.title('Hello Networkx')\n",
        "st.markdown('Zachary´s Karate Club Graph')\n",
        "\n",
        "\n",
        "G = nx.karate_club_graph()\n",
        "\n",
        "\n",
        "fig, ax = plt.subplots()\n",
        "pos = nx.kamada_kawai_layout(G)\n",
        "nx.draw(G,pos, with_labels=True)\n",
        "st.pyplot(fig)\n",
        "st.balloons()\n",
        "\n",
        "# Put your Python+Streamlit code here ...\n",
        "# you can modify it by double cliking on the folder icon at the left\n",
        "\n",
        "EOF"
      ],
      "execution_count": 5,
      "outputs": []
    },
    {
      "cell_type": "markdown",
      "metadata": {
        "id": "x78MWzB6bF_A"
      },
      "source": [
        "This last cell would keep the app running. If stoped, the app woul be disconnected."
      ]
    },
    {
      "cell_type": "code",
      "metadata": {
        "id": "FTUt5JjyDkUz"
      },
      "source": [
        "!streamlit run app.py"
      ],
      "execution_count": null,
      "outputs": []
    }
  ]
}