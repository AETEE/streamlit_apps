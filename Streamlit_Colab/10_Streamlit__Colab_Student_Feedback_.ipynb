{
  "nbformat": 4,
  "nbformat_minor": 0,
  "metadata": {
    "colab": {
      "name": "Student_Feedback_.ipynb",
      "provenance": [],
      "collapsed_sections": [],
      "include_colab_link": true
    },
    "kernelspec": {
      "name": "python3",
      "display_name": "Python 3"
    }
  },
  "cells": [
    {
      "cell_type": "markdown",
      "metadata": {
        "id": "view-in-github",
        "colab_type": "text"
      },
      "source": [
        "<a href=\"https://colab.research.google.com/github/napoles-uach/streamlit_apps/blob/main/Streamlit_Colab/10_Streamlit__Colab_Student_Feedback_.ipynb\" target=\"_parent\"><img src=\"https://colab.research.google.com/assets/colab-badge.svg\" alt=\"Open In Colab\"/></a>"
      ]
    },
    {
      "cell_type": "markdown",
      "metadata": {
        "id": "HfYLXRVBWc5B"
      },
      "source": [
        "# Tutorial 10. Make your streamlit app. \n",
        "## This notebook shows how to deploy an Streamlit app on top of Google Colaboratory.\n",
        "\n",
        "\n",
        "\n",
        "## 1) Run all and click the \"**Link to web app**\" at the bottom.\n",
        "## 2) Modify the code in `app.py`\n"
      ]
    },
    {
      "cell_type": "markdown",
      "metadata": {
        "id": "Dyplci-0ZdXM"
      },
      "source": [
        "# Setup\n",
        "(pip install what you need ...) "
      ]
    },
    {
      "cell_type": "code",
      "metadata": {
        "id": "qRQMMZ5qDI_E",
        "colab": {
          "base_uri": "https://localhost:8080/"
        },
        "outputId": "c8d7ed87-89b3-495c-c960-c50fc9dde2da"
      },
      "source": [
        "#@title -----------> Installation of Streamlit and pyngrok of course!!\n",
        "!pip -q install streamlit\n",
        "!pip -q install pyngrok"
      ],
      "execution_count": null,
      "outputs": [
        {
          "output_type": "stream",
          "text": [
            "\u001b[K     |████████████████████████████████| 7.5MB 5.6MB/s \n",
            "\u001b[K     |████████████████████████████████| 112kB 57.9MB/s \n",
            "\u001b[K     |████████████████████████████████| 163kB 51.2MB/s \n",
            "\u001b[K     |████████████████████████████████| 4.5MB 49.0MB/s \n",
            "\u001b[K     |████████████████████████████████| 81kB 8.4MB/s \n",
            "\u001b[K     |████████████████████████████████| 71kB 6.9MB/s \n",
            "\u001b[K     |████████████████████████████████| 122kB 48.0MB/s \n",
            "\u001b[?25h  Building wheel for blinker (setup.py) ... \u001b[?25l\u001b[?25hdone\n",
            "\u001b[31mERROR: google-colab 1.0.0 has requirement ipykernel~=4.10, but you'll have ipykernel 5.4.3 which is incompatible.\u001b[0m\n",
            "  Building wheel for pyngrok (setup.py) ... \u001b[?25l\u001b[?25hdone\n"
          ],
          "name": "stdout"
        }
      ]
    },
    {
      "cell_type": "markdown",
      "metadata": {
        "id": "Pjl8MssXasJF"
      },
      "source": [
        "The following is the `app.py` base code. It can be modified in the cell or in the folder to the left."
      ]
    },
    {
      "cell_type": "code",
      "metadata": {
        "id": "nrI8dgogDf5b",
        "colab": {
          "base_uri": "https://localhost:8080/"
        },
        "outputId": "328b83ae-77a2-44b4-d451-32c872bf4c7c"
      },
      "source": [
        "%%writefile app.py\n",
        "import streamlit as st\n",
        "\n",
        "import numpy as np\n",
        "import pandas as pd\n",
        "\n",
        "import sqlite3\n",
        "conn = sqlite3.connect('student_feedback.db')\n",
        "c = conn.cursor()\n",
        "    \n",
        "\n",
        "def create_table():\n",
        "    c.execute('CREATE TABLE IF NOT EXISTS feedback(date_submitted DATE, Q1 TEXT, Q2 INTEGER, Q3 INTEGER, Q4 TEXT, Q5 TEXT, Q6 TEXT, Q7 TEXT, Q8 TEXT)')\n",
        "\n",
        "def add_feedback(date_submitted, Q1, Q2, Q3, Q4, Q5, Q6, Q7, Q8):\n",
        "    c.execute('INSERT INTO feedback (date_submitted,Q1, Q2, Q3, Q4, Q5, Q6, Q7, Q8) VALUES (?,?,?,?,?,?,?,?,?)',(date_submitted,Q1, Q2, Q3, Q4, Q5, Q6, Q7, Q8))\n",
        "    conn.commit()\n",
        "\n",
        "def main():\n",
        "\n",
        "    st.title(\"Student Feedback\")\n",
        "\n",
        "    d = st.date_input(\"Today's date\",None, None, None, None)\n",
        "    \n",
        "    question_1 = st.selectbox('Who was your teacher?',('','Mr Thomson', 'Mr Tang', 'Ms Taylor','Ms Rivas','Mr Hindle','Mr Henderson'))\n",
        "    st.write('You selected:', question_1)\n",
        "    \n",
        "    question_2 = st.slider('What year are you in?', 7,13)\n",
        "    st.write('You selected:', question_2) \n",
        "    \n",
        "    question_3 = st.slider('Overall, how happy are you with the lesson? (5 being very happy and 1 being very dissapointed)', 1,5,1)\n",
        "    st.write('You selected:', question_3)\n",
        "\n",
        "    question_4 = st.selectbox('Was the lesson fun and interactive?',('','Yes', 'No'))\n",
        "    st.write('You selected:', question_4)\n",
        "\n",
        "    question_5 = st.selectbox('Was the lesson interesting and engaging?',('','Yes', 'No'))\n",
        "    st.write('You selected:', question_5)\n",
        "\n",
        "    question_6 = st.selectbox('Were you content with the pace of the lesson?',('','Yes', 'No'))\n",
        "    st.write('You selected:', question_6)\n",
        "\n",
        "    question_7 = st.selectbox('Did your teacher explore the real-world applications of what you learnt?',('','Yes', 'No'))\n",
        "    st.write('You selected:', question_7)\n",
        "\n",
        "    question_8 = st.text_input('What could have been better?', max_chars=50)\n",
        "\n",
        "    if st.button(\"Submit feedback\"):\n",
        "        create_table()\n",
        "        add_feedback(d, question_1, question_2, question_3, question_4, question_5, question_6, question_7, question_8)\n",
        "        st.success(\"Feedback submitted\")\n",
        "\n",
        "if __name__ == '__main__':\n",
        "    main()\n",
        "\n"
      ],
      "execution_count": null,
      "outputs": [
        {
          "output_type": "stream",
          "text": [
            "Writing app.py\n"
          ],
          "name": "stdout"
        }
      ]
    },
    {
      "cell_type": "code",
      "metadata": {
        "id": "FTUt5JjyDkUz",
        "colab": {
          "base_uri": "https://localhost:8080/"
        },
        "outputId": "4984e3ec-3a27-4ffe-e1bf-37db3a1d7938"
      },
      "source": [
        "#@title This last cell would keep the app running. If stoped, the app would be disconnected.\n",
        "from pyngrok import ngrok\n",
        "public_url = ngrok.connect(port='8080')\n",
        "print('Link to web app:')\n",
        "print (public_url)\n",
        "!streamlit run --server.port 80 app.py >/dev/null"
      ],
      "execution_count": null,
      "outputs": [
        {
          "output_type": "stream",
          "text": [
            "Link to web app:\n",
            "NgrokTunnel: \"http://ba5c72c75c07.ngrok.io\" -> \"http://localhost:80\"\n"
          ],
          "name": "stdout"
        }
      ]
    }
  ]
}