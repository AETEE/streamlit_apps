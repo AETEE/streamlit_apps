{
  "nbformat": 4,
  "nbformat_minor": 0,
  "metadata": {
    "colab": {
      "name": "07_Streamlit__Colab_DogCat.ipynb",
      "provenance": [],
      "collapsed_sections": [],
      "include_colab_link": true
    },
    "kernelspec": {
      "name": "python3",
      "display_name": "Python 3"
    },
    "accelerator": "GPU"
  },
  "cells": [
    {
      "cell_type": "markdown",
      "metadata": {
        "id": "view-in-github",
        "colab_type": "text"
      },
      "source": [
        "<a href=\"https://colab.research.google.com/github/napoles-uach/streamlit_apps/blob/main/Streamlit_Colab/07_Streamlit__Colab_DogCat.ipynb\" target=\"_parent\"><img src=\"https://colab.research.google.com/assets/colab-badge.svg\" alt=\"Open In Colab\"/></a>"
      ]
    },
    {
      "cell_type": "markdown",
      "metadata": {
        "id": "HfYLXRVBWc5B"
      },
      "source": [
        "# Tutorial 7. Dog vs Cat Classification streamlit app. \n",
        "## This notebook shows how to deploy an Streamlit app on top of Google Colaboratory (GPU's) using a trained model with Google's [Teachable Machine](https://teachablemachine.withgoogle.com/train).\n",
        "\n",
        "![](https://github.com/napoles-uach/streamlit_apps/blob/main/Streamlit_Colab/Images/07.png?raw=True)\n",
        "\n",
        "## 1) Run all and click the \"**Link to web app**\" at the bottom.\n",
        "## 2) Modify the code in `app.py`"
      ]
    },
    {
      "cell_type": "markdown",
      "metadata": {
        "id": "Dyplci-0ZdXM"
      },
      "source": [
        "# Setup\n",
        "(pip install what you need ...) "
      ]
    },
    {
      "cell_type": "code",
      "metadata": {
        "id": "c4R_A0gjb7fn"
      },
      "source": [
        "pip install keras streamlit pillow numpy"
      ],
      "execution_count": null,
      "outputs": []
    },
    {
      "cell_type": "code",
      "metadata": {
        "id": "qRQMMZ5qDI_E",
        "cellView": "form"
      },
      "source": [
        "#@title -----------> Installation of Streamlit and pyngrok of course!!\n",
        "!pip -q install streamlit\n",
        "!pip -q install pyngrok"
      ],
      "execution_count": null,
      "outputs": []
    },
    {
      "cell_type": "markdown",
      "metadata": {
        "id": "6PlldTc9R_pb"
      },
      "source": [
        "If you want to use your own model from Teachable Machine, just upload the `keras_model.h5` file."
      ]
    },
    {
      "cell_type": "code",
      "metadata": {
        "id": "EWNoDAg90hYc"
      },
      "source": [
        "!wget https://github.com/napoles-uach/streamlit_apps/raw/main/Streamlit_Colab/Models/Dog_Cat.h5\n",
        "!mv Dog_Cat.h5 keras_model.h5"
      ],
      "execution_count": null,
      "outputs": []
    },
    {
      "cell_type": "markdown",
      "metadata": {
        "id": "Pjl8MssXasJF"
      },
      "source": [
        "The following is the `app.py` base code. It can be modified in the cell or in the folder to the left."
      ]
    },
    {
      "cell_type": "code",
      "metadata": {
        "id": "nrI8dgogDf5b",
        "outputId": "8d64ebdd-9363-48b3-9c3d-4c47cba20bb8",
        "colab": {
          "base_uri": "https://localhost:8080/"
        }
      },
      "source": [
        "%%writefile app.py\n",
        "import streamlit as st\n",
        "from img_classification import teachable_machine_classification\n",
        "import keras\n",
        "from PIL import Image, ImageOps\n",
        "import numpy as np\n",
        "st.title(\"Image Classification with Google's Teachable Machine\")\n",
        "st.header(\"Dog vs Cat Classification Example\")\n",
        "st.write(\"Upload your favorite :dog:/:cat: Image for image classification as Dog or Cat\")\n",
        "\n",
        "uploaded_file = st.file_uploader(\"Choose a Dog/Cat jpg pic ...\", type=\"jpg\")\n",
        "if uploaded_file is not None:\n",
        "  image = Image.open(uploaded_file)\n",
        "  st.image(image, caption='Uploaded pic.', use_column_width=True)\n",
        "  st.write(\"\")\n",
        "  st.write(\"Classifying...\")\n",
        "  label = teachable_machine_classification(image, 'keras_model.h5') # Name of the model from Teachablemachine\n",
        "  if label == 0:\n",
        "    st.write(\"Is a :dog:\")\n",
        "  else:\n",
        "    st.write(\"Is a :cat:\")"
      ],
      "execution_count": 4,
      "outputs": [
        {
          "output_type": "stream",
          "text": [
            "Writing app.py\n"
          ],
          "name": "stdout"
        }
      ]
    },
    {
      "cell_type": "code",
      "metadata": {
        "id": "Xj_O4Cbob18M",
        "outputId": "b440b0c8-9446-4cbe-c1ea-b7255f6ac87b",
        "colab": {
          "base_uri": "https://localhost:8080/"
        }
      },
      "source": [
        "%%writefile img_classification.py\n",
        "import tensorflow.keras\n",
        "from PIL import Image, ImageOps\n",
        "import numpy as np\n",
        "\n",
        "\n",
        "def teachable_machine_classification(img, weights_file):\n",
        "    # Load the model\n",
        "    model = tensorflow.keras.models.load_model(weights_file)\n",
        "\n",
        "    # Create the array of the right shape to feed into the keras model\n",
        "    data = np.ndarray(shape=(1, 224, 224, 3), dtype=np.float32)\n",
        "    image = img\n",
        "    #image sizing\n",
        "    size = (224, 224)\n",
        "    image = ImageOps.fit(image, size, Image.ANTIALIAS)\n",
        "\n",
        "    #turn the image into a numpy array\n",
        "    image_array = np.asarray(image)\n",
        "    # Normalize the image\n",
        "    normalized_image_array = (image_array.astype(np.float32) / 127.0) - 1\n",
        "\n",
        "    # Load the image into the array\n",
        "    data[0] = normalized_image_array  # (Not sure if this is needed, but gives an error!!!)\n",
        "\n",
        "    # run the inference\n",
        "    prediction = model.predict(data)\n",
        "    return np.argmax(prediction) # return position of the highest probability"
      ],
      "execution_count": 5,
      "outputs": [
        {
          "output_type": "stream",
          "text": [
            "Writing img_classification.py\n"
          ],
          "name": "stdout"
        }
      ]
    },
    {
      "cell_type": "markdown",
      "metadata": {
        "id": "x78MWzB6bF_A"
      },
      "source": [
        "This last cell would keep the app running. If stoped, the app woul be disconnected."
      ]
    },
    {
      "cell_type": "code",
      "metadata": {
        "id": "FTUt5JjyDkUz",
        "cellView": "form"
      },
      "source": [
        "#@title This last cell would keep the app running. If stoped, the app would be disconnected.\n",
        "from pyngrok import ngrok\n",
        "public_url = ngrok.connect(port='80')\n",
        "print('Link to web app:')\n",
        "print (public_url)\n",
        "!streamlit run --server.port 80 app.py >/dev/null"
      ],
      "execution_count": null,
      "outputs": []
    }
  ]
}