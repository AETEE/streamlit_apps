{
  "nbformat": 4,
  "nbformat_minor": 0,
  "metadata": {
    "colab": {
      "name": "09_Streamlit__Colab_Networkx_Pyvis.ipynb",
      "provenance": [],
      "collapsed_sections": [],
      "include_colab_link": true
    },
    "kernelspec": {
      "name": "python3",
      "display_name": "Python 3"
    }
  },
  "cells": [
    {
      "cell_type": "markdown",
      "metadata": {
        "id": "view-in-github",
        "colab_type": "text"
      },
      "source": [
        "<a href=\"https://colab.research.google.com/github/napoles-uach/streamlit_apps/blob/main/Streamlit_Colab/09_Streamlit__Colab_Networkx_Pyvis.ipynb\" target=\"_parent\"><img src=\"https://colab.research.google.com/assets/colab-badge.svg\" alt=\"Open In Colab\"/></a>"
      ]
    },
    {
      "cell_type": "markdown",
      "metadata": {
        "id": "HfYLXRVBWc5B"
      },
      "source": [
        "# Tutorial 2. Make graphs in your streamlit app. \n",
        "## This notebook shows how to deploy an Streamlit app on top of Google Colaboratory + Networkx.\n",
        "\n",
        "![](https://github.com/napoles-uach/streamlit_apps/blob/main/Streamlit_Colab/Images/02.png?raw=True)\n",
        "\n",
        "## 1) Run all and click the \"**Link to web app**\" (ignore the output of the last cell).\n",
        "## 2) Modify the code in `app.py`\n"
      ]
    },
    {
      "cell_type": "markdown",
      "metadata": {
        "id": "Dyplci-0ZdXM"
      },
      "source": [
        "# Setup\n",
        "(Do not need to install networkx.) "
      ]
    },
    {
      "cell_type": "markdown",
      "metadata": {
        "id": "NOO9ZD-raKFj"
      },
      "source": [
        "Installation of Streamlit of course!!"
      ]
    },
    {
      "cell_type": "code",
      "metadata": {
        "id": "qRQMMZ5qDI_E",
        "colab": {
          "base_uri": "https://localhost:8080/"
        },
        "outputId": "4974a34b-7c2b-44b1-eb8a-ef796d1bc220"
      },
      "source": [
        "!pip install streamlit -q"
      ],
      "execution_count": 7,
      "outputs": [
        {
          "output_type": "stream",
          "text": [
            "\u001b[K     |████████████████████████████████| 7.4MB 6.7MB/s \n",
            "\u001b[K     |████████████████████████████████| 112kB 49.8MB/s \n",
            "\u001b[K     |████████████████████████████████| 163kB 44.1MB/s \n",
            "\u001b[K     |████████████████████████████████| 4.5MB 49.5MB/s \n",
            "\u001b[K     |████████████████████████████████| 81kB 8.8MB/s \n",
            "\u001b[K     |████████████████████████████████| 71kB 7.7MB/s \n",
            "\u001b[K     |████████████████████████████████| 122kB 52.8MB/s \n",
            "\u001b[?25h  Building wheel for blinker (setup.py) ... \u001b[?25l\u001b[?25hdone\n",
            "\u001b[31mERROR: google-colab 1.0.0 has requirement ipykernel~=4.10, but you'll have ipykernel 5.4.2 which is incompatible.\u001b[0m\n"
          ],
          "name": "stdout"
        }
      ]
    },
    {
      "cell_type": "code",
      "metadata": {
        "colab": {
          "base_uri": "https://localhost:8080/"
        },
        "id": "ypcagoV_AiWq",
        "outputId": "3f7eb4cf-305a-49f5-f340-7917e618e3a2"
      },
      "source": [
        "!pip install pyvis"
      ],
      "execution_count": 1,
      "outputs": [
        {
          "output_type": "stream",
          "text": [
            "Collecting pyvis\n",
            "  Downloading https://files.pythonhosted.org/packages/77/e1/bee44bc4ec826bb7ed1f1ff52244bca3745b1a7d72033fc84ffeed61725b/pyvis-0.1.8.2-py3-none-any.whl\n",
            "Requirement already satisfied: ipython>=5.3.0 in /usr/local/lib/python3.6/dist-packages (from pyvis) (5.5.0)\n",
            "Requirement already satisfied: networkx>=1.11 in /usr/local/lib/python3.6/dist-packages (from pyvis) (2.5)\n",
            "Requirement already satisfied: jinja2>=2.9.6 in /usr/local/lib/python3.6/dist-packages (from pyvis) (2.11.2)\n",
            "Collecting jsonpickle>=1.4.1\n",
            "  Downloading https://files.pythonhosted.org/packages/ee/d5/1cc282dc23346a43aab461bf2e8c36593aacd34242bee1a13fa750db0cfe/jsonpickle-1.4.2-py2.py3-none-any.whl\n",
            "Requirement already satisfied: pygments in /usr/local/lib/python3.6/dist-packages (from ipython>=5.3.0->pyvis) (2.6.1)\n",
            "Requirement already satisfied: pexpect; sys_platform != \"win32\" in /usr/local/lib/python3.6/dist-packages (from ipython>=5.3.0->pyvis) (4.8.0)\n",
            "Requirement already satisfied: setuptools>=18.5 in /usr/local/lib/python3.6/dist-packages (from ipython>=5.3.0->pyvis) (51.0.0)\n",
            "Requirement already satisfied: decorator in /usr/local/lib/python3.6/dist-packages (from ipython>=5.3.0->pyvis) (4.4.2)\n",
            "Requirement already satisfied: pickleshare in /usr/local/lib/python3.6/dist-packages (from ipython>=5.3.0->pyvis) (0.7.5)\n",
            "Requirement already satisfied: traitlets>=4.2 in /usr/local/lib/python3.6/dist-packages (from ipython>=5.3.0->pyvis) (4.3.3)\n",
            "Requirement already satisfied: simplegeneric>0.8 in /usr/local/lib/python3.6/dist-packages (from ipython>=5.3.0->pyvis) (0.8.1)\n",
            "Requirement already satisfied: prompt-toolkit<2.0.0,>=1.0.4 in /usr/local/lib/python3.6/dist-packages (from ipython>=5.3.0->pyvis) (1.0.18)\n",
            "Requirement already satisfied: MarkupSafe>=0.23 in /usr/local/lib/python3.6/dist-packages (from jinja2>=2.9.6->pyvis) (1.1.1)\n",
            "Requirement already satisfied: importlib-metadata; python_version < \"3.8\" in /usr/local/lib/python3.6/dist-packages (from jsonpickle>=1.4.1->pyvis) (3.3.0)\n",
            "Requirement already satisfied: ptyprocess>=0.5 in /usr/local/lib/python3.6/dist-packages (from pexpect; sys_platform != \"win32\"->ipython>=5.3.0->pyvis) (0.6.0)\n",
            "Requirement already satisfied: six in /usr/local/lib/python3.6/dist-packages (from traitlets>=4.2->ipython>=5.3.0->pyvis) (1.15.0)\n",
            "Requirement already satisfied: ipython-genutils in /usr/local/lib/python3.6/dist-packages (from traitlets>=4.2->ipython>=5.3.0->pyvis) (0.2.0)\n",
            "Requirement already satisfied: wcwidth in /usr/local/lib/python3.6/dist-packages (from prompt-toolkit<2.0.0,>=1.0.4->ipython>=5.3.0->pyvis) (0.2.5)\n",
            "Requirement already satisfied: zipp>=0.5 in /usr/local/lib/python3.6/dist-packages (from importlib-metadata; python_version < \"3.8\"->jsonpickle>=1.4.1->pyvis) (3.4.0)\n",
            "Requirement already satisfied: typing-extensions>=3.6.4; python_version < \"3.8\" in /usr/local/lib/python3.6/dist-packages (from importlib-metadata; python_version < \"3.8\"->jsonpickle>=1.4.1->pyvis) (3.7.4.3)\n",
            "Installing collected packages: jsonpickle, pyvis\n",
            "Successfully installed jsonpickle-1.4.2 pyvis-0.1.8.2\n"
          ],
          "name": "stdout"
        }
      ]
    },
    {
      "cell_type": "markdown",
      "metadata": {
        "id": "GAT2O6ySaSNa"
      },
      "source": [
        "Here we use the ngrok cloud service. Don't change this!!"
      ]
    },
    {
      "cell_type": "code",
      "metadata": {
        "id": "gB-RFLEtDUfE",
        "colab": {
          "base_uri": "https://localhost:8080/"
        },
        "outputId": "55f945ee-aed2-42c9-b2c2-a8c4e1cd8700"
      },
      "source": [
        "!wget https://bin.equinox.io/c/4VmDzA7iaHb/ngrok-stable-linux-amd64.zip\n",
        "!unzip -qq ngrok-stable-linux-amd64.zip"
      ],
      "execution_count": 2,
      "outputs": [
        {
          "output_type": "stream",
          "text": [
            "--2020-12-29 17:47:51--  https://bin.equinox.io/c/4VmDzA7iaHb/ngrok-stable-linux-amd64.zip\n",
            "Resolving bin.equinox.io (bin.equinox.io)... 34.226.19.210, 52.202.213.65, 52.6.97.115, ...\n",
            "Connecting to bin.equinox.io (bin.equinox.io)|34.226.19.210|:443... connected.\n",
            "HTTP request sent, awaiting response... 200 OK\n",
            "Length: 13773305 (13M) [application/octet-stream]\n",
            "Saving to: ‘ngrok-stable-linux-amd64.zip’\n",
            "\n",
            "ngrok-stable-linux- 100%[===================>]  13.13M  40.7MB/s    in 0.3s    \n",
            "\n",
            "2020-12-29 17:47:51 (40.7 MB/s) - ‘ngrok-stable-linux-amd64.zip’ saved [13773305/13773305]\n",
            "\n"
          ],
          "name": "stdout"
        }
      ]
    },
    {
      "cell_type": "markdown",
      "metadata": {
        "id": "Cphby1-RIu5R"
      },
      "source": [
        "# Sometimes you have to run the cell below a couple of times to get the link to the app.\n",
        "Use the output here!!"
      ]
    },
    {
      "cell_type": "code",
      "metadata": {
        "id": "ildaf7SEDcKh",
        "colab": {
          "base_uri": "https://localhost:8080/"
        },
        "outputId": "dcc77785-a1c7-4fec-b77c-56f907e10f17"
      },
      "source": [
        "print('Link to web app')\n",
        "get_ipython().system_raw('./ngrok http 8501 &')\n",
        "! curl -s http://localhost:4040/api/tunnels | python3 -c \\\n",
        "    \"import sys, json; print(json.load(sys.stdin)['tunnels'][0]['public_url'])\""
      ],
      "execution_count": 13,
      "outputs": [
        {
          "output_type": "stream",
          "text": [
            "Link to web app\n",
            "http://6f41a70b558d.ngrok.io\n"
          ],
          "name": "stdout"
        }
      ]
    },
    {
      "cell_type": "markdown",
      "metadata": {
        "id": "Pjl8MssXasJF"
      },
      "source": [
        "The following is the `app.py` base code. It can be modified in the cell or in the folder to the left."
      ]
    },
    {
      "cell_type": "code",
      "metadata": {
        "id": "nrI8dgogDf5b"
      },
      "source": [
        "%%bash\n",
        "cat > app.py <<EOF\n",
        "import streamlit as st\n",
        "import streamlit.components.v1 as components\n",
        "import networkx as nx\n",
        "import matplotlib.pyplot as plt\n",
        "from pyvis.network import Network\n",
        "import got \n",
        "#Network(notebook=True)\n",
        "st.title('Hello Pyvis')\n",
        "# make Network show itself with repr_html\n",
        "\n",
        "#def net_repr_html(self):\n",
        "#  nodes, edges, height, width, options = self.get_network_data()\n",
        "#  html = self.template.render(height=height, width=width, nodes=nodes, edges=edges, options=options)\n",
        "#  return html\n",
        "\n",
        "#Network._repr_html_ = net_repr_html\n",
        "st.sidebar.title('Choose your favorite Graph')\n",
        "option=st.sidebar.selectbox('select graph',('Simple','Karate', 'GOT','Random'))\n",
        "physics=st.sidebar.checkbox('add physics interactivity?')\n",
        "got.simple_func(physics)\n",
        "\n",
        "if option=='Simple':\n",
        "  HtmlFile = open(\"test.html\", 'r', encoding='utf-8')\n",
        "  source_code = HtmlFile.read() \n",
        "  components.html(source_code, height = 900,width=900)\n",
        "\n",
        "\n",
        "got.got_func(physics)\n",
        "\n",
        "if option=='GOT':\n",
        "  HtmlFile = open(\"gameofthrones.html\", 'r', encoding='utf-8')\n",
        "  source_code = HtmlFile.read() \n",
        "  components.html(source_code, height = 1200,width=1000)\n",
        "\n",
        "\n",
        "\n",
        "got.karate_func(physics)\n",
        "\n",
        "if option=='Karate':\n",
        "  HtmlFile = open(\"karate.html\", 'r', encoding='utf-8')\n",
        "  source_code = HtmlFile.read() \n",
        "  components.html(source_code, height = 1200,width=1000)\n",
        "\n",
        "\n",
        "got.random_func(physics)\n",
        "\n",
        "if option=='Random':\n",
        "  HtmlFile = open(\"random.html\", 'r', encoding='utf-8')\n",
        "  source_code = HtmlFile.read() \n",
        "  components.html(source_code, height = 1200,width=1000)\n",
        "# Put your Python+Streamlit code here ...\n",
        "# you can modify it by double cliking on the folder icon at the left\n",
        "\n",
        "\n",
        "EOF"
      ],
      "execution_count": 10,
      "outputs": []
    },
    {
      "cell_type": "markdown",
      "metadata": {
        "id": "x78MWzB6bF_A"
      },
      "source": [
        "This last cell would keep the app running. If stoped, the app woul be disconnected."
      ]
    },
    {
      "cell_type": "code",
      "metadata": {
        "id": "tPSl7IxFKQdY"
      },
      "source": [
        "%%bash\n",
        "cat > got.py <<EOF\n",
        "import networkx as nx\n",
        "import matplotlib.pyplot as plt\n",
        "from pyvis.network import Network\n",
        "import pandas as pd\n",
        "import streamlit as st\n",
        "\n",
        "\n",
        "def got_func(physics):\n",
        "  got_net = Network(height=\"600px\", width=\"100%\", font_color=\"black\",heading='Game of Thrones Graph')\n",
        "\n",
        "# set the physics layout of the network\n",
        "  got_net.barnes_hut()\n",
        "  got_data = pd.read_csv(\"https://www.macalester.edu/~abeverid/data/stormofswords.csv\")\n",
        "  #got_data = pd.read_csv(\"stormofswords.csv\")\n",
        "  #got_data.rename(index={0: \"Source\", 1: \"Target\", 2: \"Weight\"}) \n",
        "  sources = got_data['Source']\n",
        "  targets = got_data['Target']\n",
        "  weights = got_data['Weight']\n",
        "\n",
        "  edge_data = zip(sources, targets, weights)\n",
        "\n",
        "  for e in edge_data:\n",
        "    src = e[0]\n",
        "    dst = e[1]\n",
        "    w = e[2]\n",
        "\n",
        "    got_net.add_node(src, src, title=src)\n",
        "    got_net.add_node(dst, dst, title=dst)\n",
        "    got_net.add_edge(src, dst, value=w)\n",
        "\n",
        "  neighbor_map = got_net.get_adj_list()\n",
        "\n",
        "# add neighbor data to node hover data\n",
        "  for node in got_net.nodes:\n",
        "    node[\"title\"] += \" Neighbors:<br>\" + \"<br>\".join(neighbor_map[node[\"id\"]])\n",
        "    node[\"value\"] = len(neighbor_map[node[\"id\"]])\n",
        "  if physics:\n",
        "    got_net.show_buttons(filter_=['physics'])\n",
        "  got_net.show(\"gameofthrones.html\")\n",
        "  \n",
        "\n",
        "def simple_func(physics): \n",
        "  nx_graph = nx.cycle_graph(10)\n",
        "  nx_graph.nodes[1]['title'] = 'Number 1'\n",
        "  nx_graph.nodes[1]['group'] = 1\n",
        "  nx_graph.nodes[3]['title'] = 'I belong to a different group!'\n",
        "  nx_graph.nodes[3]['group'] = 10\n",
        "  nx_graph.add_node(20, size=20, title='couple', group=2)\n",
        "  nx_graph.add_node(21, size=15, title='couple', group=2)\n",
        "  nx_graph.add_edge(20, 21, weight=5)\n",
        "  nx_graph.add_node(25, size=25, label='lonely', title='lonely node', group=3)\n",
        "\n",
        "\n",
        "  nt = Network(\"500px\", \"500px\",notebook=True,heading='')\n",
        "  nt.from_nx(nx_graph)\n",
        "  #physics=st.sidebar.checkbox('add physics interactivity?')\n",
        "  if physics:\n",
        "    nt.show_buttons(filter_=['physics'])\n",
        "  nt.show('test.html')\n",
        "\n",
        "\n",
        "def karate_func(physics): \n",
        "  G = nx.karate_club_graph()\n",
        "\n",
        "\n",
        "  nt = Network(\"500px\", \"500px\",notebook=True,heading='Zachary’s Karate Club graph')\n",
        "  nt.from_nx(G)\n",
        "  #physics=st.sidebar.checkbox('add physics interactivity?')\n",
        "  if physics:\n",
        "    nt.show_buttons(filter_=['physics'])\n",
        "  nt.show('karate.html')\n",
        "\n",
        "\n",
        "def random_func(physics): \n",
        "  G = nx.random_tree(20)\n",
        "\n",
        "\n",
        "  nt = Network(\"500px\", \"500px\",directed=True,heading='Random graph')\n",
        "  nt.from_nx(G)\n",
        "  #physics=st.sidebar.checkbox('add physics interactivity?')\n",
        "  if physics:\n",
        "    nt.show_buttons(filter_=['physics'])\n",
        "  nt.show('random.html')\n",
        "\n",
        "EOF"
      ],
      "execution_count": 11,
      "outputs": []
    },
    {
      "cell_type": "code",
      "metadata": {
        "id": "FTUt5JjyDkUz",
        "colab": {
          "base_uri": "https://localhost:8080/"
        },
        "outputId": "336a1891-68b7-419d-fe10-d19e24faefae"
      },
      "source": [
        "!streamlit run app.py"
      ],
      "execution_count": null,
      "outputs": [
        {
          "output_type": "stream",
          "text": [
            "\u001b[0m\n",
            "\u001b[34m\u001b[1m  You can now view your Streamlit app in your browser.\u001b[0m\n",
            "\u001b[0m\n",
            "\u001b[34m  Network URL: \u001b[0m\u001b[1mhttp://172.28.0.2:8501\u001b[0m\n",
            "\u001b[34m  External URL: \u001b[0m\u001b[1mhttp://107.178.211.250:8501\u001b[0m\n",
            "\u001b[0m\n"
          ],
          "name": "stdout"
        }
      ]
    },
    {
      "cell_type": "code",
      "metadata": {
        "id": "ib6HAlhw2qIX"
      },
      "source": [
        ""
      ],
      "execution_count": null,
      "outputs": []
    }
  ]
}