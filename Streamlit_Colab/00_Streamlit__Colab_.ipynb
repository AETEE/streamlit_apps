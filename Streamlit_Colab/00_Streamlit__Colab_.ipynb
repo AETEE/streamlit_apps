{
  "nbformat": 4,
  "nbformat_minor": 0,
  "metadata": {
    "colab": {
      "name": "00_Streamlit__Colab_.ipynb",
      "provenance": [],
      "collapsed_sections": [],
      "include_colab_link": true
    },
    "kernelspec": {
      "name": "python3",
      "display_name": "Python 3"
    }
  },
  "cells": [
    {
      "cell_type": "markdown",
      "metadata": {
        "id": "view-in-github",
        "colab_type": "text"
      },
      "source": [
        "<a href=\"https://colab.research.google.com/github/napoles-uach/streamlit_apps/blob/main/Streamlit_Colab/00_Streamlit__Colab_.ipynb\" target=\"_parent\"><img src=\"https://colab.research.google.com/assets/colab-badge.svg\" alt=\"Open In Colab\"/></a>"
      ]
    },
    {
      "cell_type": "markdown",
      "metadata": {
        "id": "HfYLXRVBWc5B"
      },
      "source": [
        "# Tutorial 0. Make your streamlit app. \n",
        "## This notebook shows how to deploy an Streamlit app on top of Google Colaboratory.\n",
        "\n",
        "![](https://github.com/napoles-uach/streamlit_apps/blob/main/Streamlit_Colab/Images/00.png?raw=True)\n",
        "\n",
        "## 1) Run all and click the \"**Link to web app**\" at the bottom.\n",
        "## 2) Modify the code in `app.py`\n"
      ]
    },
    {
      "cell_type": "markdown",
      "metadata": {
        "id": "Dyplci-0ZdXM"
      },
      "source": [
        "# Setup\n",
        "(pip install what you need ...) "
      ]
    },
    {
      "cell_type": "code",
      "metadata": {
        "id": "qRQMMZ5qDI_E"
      },
      "source": [
        "#@title -----------> Installation of Streamlit and pyngrok of course!!\n",
        "!pip -q install streamlit\n",
        "!pip -q install pyngrok"
      ],
      "execution_count": null,
      "outputs": []
    },
    {
      "cell_type": "markdown",
      "metadata": {
        "id": "Pjl8MssXasJF"
      },
      "source": [
        "The following is the `app.py` base code. It can be modified in the cell or in the folder to the left."
      ]
    },
    {
      "cell_type": "code",
      "metadata": {
        "id": "nrI8dgogDf5b",
        "outputId": "d3b4e50a-6f4f-4839-a41b-28d96d9c949a",
        "colab": {
          "base_uri": "https://localhost:8080/"
        }
      },
      "source": [
        "%%writefile app.py\n",
        "import streamlit as st\n",
        "\n",
        "st.title('Empty app :rocket:')\n",
        "\n",
        "# Put your Python+Streamlit code here ...\n",
        "# you can modify it by double cliking on the folder icon at the left"
      ],
      "execution_count": 2,
      "outputs": [
        {
          "output_type": "stream",
          "text": [
            "Writing app.py\n"
          ],
          "name": "stdout"
        }
      ]
    },
    {
      "cell_type": "code",
      "metadata": {
        "id": "FTUt5JjyDkUz"
      },
      "source": [
        "#@title This last cell would keep the app running. If stoped, the app would be disconnected.\n",
        "from pyngrok import ngrok\n",
        "public_url = ngrok.connect(port='80')\n",
        "print('Link to web app:')\n",
        "print (public_url)\n",
        "!streamlit run --server.port 80 app.py >/dev/null"
      ],
      "execution_count": null,
      "outputs": []
    }
  ]
}