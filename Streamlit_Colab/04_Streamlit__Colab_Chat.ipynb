{
  "nbformat": 4,
  "nbformat_minor": 0,
  "metadata": {
    "colab": {
      "name": "04_Streamlit__Colab_Chat.ipynb",
      "provenance": [],
      "collapsed_sections": [],
      "include_colab_link": true
    },
    "kernelspec": {
      "name": "python3",
      "display_name": "Python 3"
    }
  },
  "cells": [
    {
      "cell_type": "markdown",
      "metadata": {
        "id": "view-in-github",
        "colab_type": "text"
      },
      "source": [
        "<a href=\"https://colab.research.google.com/github/napoles-uach/streamlit_apps/blob/main/Streamlit_Colab/04_Streamlit__Colab_Chat.ipynb\" target=\"_parent\"><img src=\"https://colab.research.google.com/assets/colab-badge.svg\" alt=\"Open In Colab\"/></a>"
      ]
    },
    {
      "cell_type": "markdown",
      "metadata": {
        "id": "HfYLXRVBWc5B"
      },
      "source": [
        "# Tutorial 4. Make your Chat streamlit app. \n",
        "## This notebook shows how to deploy a Chat app with Streamlit and Google Colaboratory. Borrowed from this [post](https://discuss.streamlit.io/t/simple-example-of-persistence-and-waiting-for-input/2111) by [Madflier](https://discuss.streamlit.io/u/madflier/summary).\n",
        "\n",
        "![](https://github.com/napoles-uach/streamlit_apps/blob/main/Streamlit_Colab/Images/04.png?raw=True)\n",
        "\n",
        "## 1) Run all and click the \"**Link to web app**\" (ignore the output of the last cell).\n",
        "## 2) Modify the code in `app.py`\n"
      ]
    },
    {
      "cell_type": "markdown",
      "metadata": {
        "id": "Dyplci-0ZdXM"
      },
      "source": [
        "# Setup\n",
        "(pip install what you need ...) "
      ]
    },
    {
      "cell_type": "markdown",
      "metadata": {
        "id": "NOO9ZD-raKFj"
      },
      "source": [
        "Installation of Streamlit of course!!"
      ]
    },
    {
      "cell_type": "code",
      "metadata": {
        "id": "qRQMMZ5qDI_E",
        "colab": {
          "base_uri": "https://localhost:8080/"
        },
        "outputId": "0b1b74d0-3811-4a08-a7bb-9496f5ffc5a3"
      },
      "source": [
        "!pip install streamlit -q"
      ],
      "execution_count": 1,
      "outputs": [
        {
          "output_type": "stream",
          "text": [
            "\u001b[K     |████████████████████████████████| 7.4MB 5.8MB/s \n",
            "\u001b[K     |████████████████████████████████| 112kB 41.3MB/s \n",
            "\u001b[K     |████████████████████████████████| 163kB 50.6MB/s \n",
            "\u001b[K     |████████████████████████████████| 6.9MB 42.2MB/s \n",
            "\u001b[K     |████████████████████████████████| 133kB 50.0MB/s \n",
            "\u001b[K     |████████████████████████████████| 102kB 11.7MB/s \n",
            "\u001b[K     |████████████████████████████████| 4.5MB 45.9MB/s \n",
            "\u001b[K     |████████████████████████████████| 71kB 9.5MB/s \n",
            "\u001b[K     |████████████████████████████████| 71kB 9.3MB/s \n",
            "\u001b[K     |████████████████████████████████| 122kB 49.4MB/s \n",
            "\u001b[?25h  Building wheel for blinker (setup.py) ... \u001b[?25l\u001b[?25hdone\n",
            "  Building wheel for watchdog (setup.py) ... \u001b[?25l\u001b[?25hdone\n",
            "  Building wheel for pathtools (setup.py) ... \u001b[?25l\u001b[?25hdone\n",
            "\u001b[31mERROR: google-colab 1.0.0 has requirement ipykernel~=4.10, but you'll have ipykernel 5.3.4 which is incompatible.\u001b[0m\n",
            "\u001b[31mERROR: botocore 1.19.25 has requirement urllib3<1.27,>=1.25.4; python_version != \"3.4\", but you'll have urllib3 1.24.3 which is incompatible.\u001b[0m\n"
          ],
          "name": "stdout"
        }
      ]
    },
    {
      "cell_type": "markdown",
      "metadata": {
        "id": "GAT2O6ySaSNa"
      },
      "source": [
        "Here we use the ngrok cloud service. Don't change this!!"
      ]
    },
    {
      "cell_type": "code",
      "metadata": {
        "id": "gB-RFLEtDUfE",
        "colab": {
          "base_uri": "https://localhost:8080/"
        },
        "outputId": "ee0562bd-f76e-45f8-fe05-afe4324e46fe"
      },
      "source": [
        "!wget https://bin.equinox.io/c/4VmDzA7iaHb/ngrok-stable-linux-amd64.zip\n",
        "!unzip -qq ngrok-stable-linux-amd64.zip"
      ],
      "execution_count": 2,
      "outputs": [
        {
          "output_type": "stream",
          "text": [
            "--2020-11-28 17:18:12--  https://bin.equinox.io/c/4VmDzA7iaHb/ngrok-stable-linux-amd64.zip\n",
            "Resolving bin.equinox.io (bin.equinox.io)... 52.23.32.39, 52.54.245.245, 52.6.97.115, ...\n",
            "Connecting to bin.equinox.io (bin.equinox.io)|52.23.32.39|:443... connected.\n",
            "HTTP request sent, awaiting response... 200 OK\n",
            "Length: 13773305 (13M) [application/octet-stream]\n",
            "Saving to: ‘ngrok-stable-linux-amd64.zip’\n",
            "\n",
            "ngrok-stable-linux- 100%[===================>]  13.13M  49.9MB/s    in 0.3s    \n",
            "\n",
            "2020-11-28 17:18:12 (49.9 MB/s) - ‘ngrok-stable-linux-amd64.zip’ saved [13773305/13773305]\n",
            "\n"
          ],
          "name": "stdout"
        }
      ]
    },
    {
      "cell_type": "markdown",
      "metadata": {
        "id": "Cphby1-RIu5R"
      },
      "source": [
        "# Sometimes you have to run the cell below a couple of times to get the link to the app.\n",
        "Use the output here!!"
      ]
    },
    {
      "cell_type": "code",
      "metadata": {
        "id": "ildaf7SEDcKh",
        "colab": {
          "base_uri": "https://localhost:8080/"
        },
        "outputId": "de40f57f-11d7-4bbb-cada-15d223f88b5e"
      },
      "source": [
        "print('Link to web app')\n",
        "get_ipython().system_raw('./ngrok http 8501 &')\n",
        "! curl -s http://localhost:4040/api/tunnels | python3 -c \\\n",
        "    \"import sys, json; print(json.load(sys.stdin)['tunnels'][0]['public_url'])\""
      ],
      "execution_count": 13,
      "outputs": [
        {
          "output_type": "stream",
          "text": [
            "Link to web app\n",
            "https://5b2b97ab0e82.ngrok.io\n"
          ],
          "name": "stdout"
        }
      ]
    },
    {
      "cell_type": "markdown",
      "metadata": {
        "id": "Pjl8MssXasJF"
      },
      "source": [
        "The following is the `app.py` base code. It can be modified in the cell or in the folder to the left."
      ]
    },
    {
      "cell_type": "code",
      "metadata": {
        "id": "nrI8dgogDf5b"
      },
      "source": [
        "%%bash\n",
        "cat > app.py <<EOF\n",
        "import streamlit as st\n",
        "\n",
        "#create cache object for the \"chat\"\n",
        "@st.cache(allow_output_mutation=True)\n",
        "def Chat():\n",
        "    return []\n",
        "\n",
        "chat=Chat()\n",
        "name = st.sidebar.text_input(\"Name\")\n",
        "message = st.sidebar.text_area(\"Message\")\n",
        "if st.sidebar.button(\"Post chat message\"):\n",
        "    chat.append((name,message))\n",
        "\n",
        "if len(chat) > 10:\n",
        "    del(chat[0])\n",
        "\n",
        "try:\n",
        "    names, messages = zip(*chat)\n",
        "    chat1 = dict(Name = names, Message =  messages)\n",
        "    st.table(chat1)\n",
        "except ValueError:\n",
        "    st.title(\"Enter your name and message into the sidebar, and post!\")\n",
        "\n",
        "# Put your Python+Streamlit code here ...\n",
        "# you can modify it by double cliking on the folder icon at the left\n",
        "\n",
        "EOF"
      ],
      "execution_count": 6,
      "outputs": []
    },
    {
      "cell_type": "markdown",
      "metadata": {
        "id": "x78MWzB6bF_A"
      },
      "source": [
        "This last cell would keep the app running. If stoped, the app woul be disconnected."
      ]
    },
    {
      "cell_type": "code",
      "metadata": {
        "id": "FTUt5JjyDkUz",
        "colab": {
          "base_uri": "https://localhost:8080/"
        },
        "outputId": "4b731ac1-2ca7-4e79-d312-7ff7c820801f"
      },
      "source": [
        "!streamlit run app.py"
      ],
      "execution_count": null,
      "outputs": [
        {
          "output_type": "stream",
          "text": [
            "\u001b[0m\n",
            "\u001b[34m\u001b[1m  You can now view your Streamlit app in your browser.\u001b[0m\n",
            "\u001b[0m\n",
            "\u001b[34m  Network URL: \u001b[0m\u001b[1mhttp://172.28.0.2:8501\u001b[0m\n",
            "\u001b[34m  External URL: \u001b[0m\u001b[1mhttp://34.74.214.11:8501\u001b[0m\n",
            "\u001b[0m\n"
          ],
          "name": "stdout"
        }
      ]
    },
    {
      "cell_type": "code",
      "metadata": {
        "id": "-RcGswihNLOc"
      },
      "source": [
        ""
      ],
      "execution_count": null,
      "outputs": []
    }
  ]
}