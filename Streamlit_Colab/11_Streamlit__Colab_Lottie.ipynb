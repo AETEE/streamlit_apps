{
  "nbformat": 4,
  "nbformat_minor": 0,
  "metadata": {
    "colab": {
      "name": "11_Streamlit__Colab_Lottie.ipynb",
      "provenance": [],
      "collapsed_sections": [],
      "include_colab_link": true
    },
    "kernelspec": {
      "name": "python3",
      "display_name": "Python 3"
    }
  },
  "cells": [
    {
      "cell_type": "markdown",
      "metadata": {
        "id": "view-in-github",
        "colab_type": "text"
      },
      "source": [
        "<a href=\"https://colab.research.google.com/github/napoles-uach/streamlit_apps/blob/main/Streamlit_Colab/11_Streamlit__Colab_Lottie.ipynb\" target=\"_parent\"><img src=\"https://colab.research.google.com/assets/colab-badge.svg\" alt=\"Open In Colab\"/></a>"
      ]
    },
    {
      "cell_type": "markdown",
      "metadata": {
        "id": "HfYLXRVBWc5B"
      },
      "source": [
        "# Tutorial 0. Make your streamlit app. \n",
        "## This notebook shows how to deploy an Streamlit app on top of Google Colaboratory.\n",
        "\n",
        "![](https://github.com/napoles-uach/streamlit_apps/blob/main/Streamlit_Colab/Images/00.png?raw=True)\n",
        "\n",
        "## 1) Run all and click the \"**Link to web app**\" at the bottom.\n",
        "## 2) Modify the code in `app.py`\n"
      ]
    },
    {
      "cell_type": "markdown",
      "metadata": {
        "id": "Dyplci-0ZdXM"
      },
      "source": [
        "# Setup\n",
        "(pip install what you need ...) "
      ]
    },
    {
      "cell_type": "code",
      "metadata": {
        "id": "3uyvhtst5gK8"
      },
      "source": [
        "!pip install streamlit-lottie"
      ],
      "execution_count": null,
      "outputs": []
    },
    {
      "cell_type": "code",
      "metadata": {
        "id": "qRQMMZ5qDI_E",
        "colab": {
          "base_uri": "https://localhost:8080/"
        },
        "outputId": "22872931-4582-4bfc-9c35-929c5be535a4"
      },
      "source": [
        "#@title -----------> Installation of Streamlit and pyngrok of course!!\n",
        "!pip -q install streamlit\n",
        "!pip -q install pyngrok"
      ],
      "execution_count": null,
      "outputs": [
        {
          "output_type": "stream",
          "text": [
            "\u001b[K     |████████████████████████████████| 7.5MB 7.8MB/s \n",
            "\u001b[K     |████████████████████████████████| 112kB 42.0MB/s \n",
            "\u001b[K     |████████████████████████████████| 163kB 44.9MB/s \n",
            "\u001b[K     |████████████████████████████████| 81kB 8.8MB/s \n",
            "\u001b[K     |████████████████████████████████| 4.5MB 49.7MB/s \n",
            "\u001b[K     |████████████████████████████████| 71kB 8.2MB/s \n",
            "\u001b[K     |████████████████████████████████| 122kB 43.8MB/s \n",
            "\u001b[?25h  Building wheel for blinker (setup.py) ... \u001b[?25l\u001b[?25hdone\n",
            "\u001b[31mERROR: google-colab 1.0.0 has requirement ipykernel~=4.10, but you'll have ipykernel 5.4.3 which is incompatible.\u001b[0m\n",
            "  Building wheel for pyngrok (setup.py) ... \u001b[?25l\u001b[?25hdone\n"
          ],
          "name": "stdout"
        }
      ]
    },
    {
      "cell_type": "markdown",
      "metadata": {
        "id": "Pjl8MssXasJF"
      },
      "source": [
        "The following is the `app.py` base code. It can be modified in the cell or in the folder to the left."
      ]
    },
    {
      "cell_type": "code",
      "metadata": {
        "id": "nrI8dgogDf5b",
        "colab": {
          "base_uri": "https://localhost:8080/"
        },
        "outputId": "1a2fd784-57ea-4172-d24b-67c415e077b2"
      },
      "source": [
        "%%writefile app.py\n",
        "import streamlit as st\n",
        "import streamlit.components.v1 as components\n",
        "from streamlit_lottie import st_lottie\n",
        "import requests\n",
        "#from streamlit.hashing import _CodeHasher\n",
        "\n",
        "def load_lottieurl(url: str):\n",
        "    r = requests.get(url)\n",
        "    if r.status_code != 200:\n",
        "        return None\n",
        "    return r.json()\n",
        "\n",
        "\n",
        "links={\n",
        "  \"bot\":\"https://assets8.lottiefiles.com/packages/lf20_g1pduE.json\",\n",
        "  \"face\" : \"https://assets8.lottiefiles.com/packages/lf20_Sb1gLg.json\",\n",
        "  \"process\" : \"https://assets8.lottiefiles.com/private_files/lf30_eTrSeS.json\",\n",
        "  \"DS\" : \"https://assets7.lottiefiles.com/private_files/lf30_8z6ubjgk.json\",\n",
        "  \"net\":\"https://assets1.lottiefiles.com/private_files/lf30_8npirptd.json\",\n",
        "  \"bot-DS\":\"https://assets6.lottiefiles.com/temp/lf20_TOE9MF.json\",\n",
        "  \"dash\":\"https://assets8.lottiefiles.com/packages/lf20_vpjqwyzx.json\",\n",
        "  \"chem\":\"https://assets2.lottiefiles.com/private_files/lf30_k9hzIV.json\"\n",
        "\n",
        "}\n",
        "\n",
        "\n",
        "c1,c2,c3,c4 = st.beta_columns(4)\n",
        "\n",
        "with c1:\n",
        "  st.header(\"one\")\n",
        "  st_lottie(load_lottieurl(links[\"bot\"]),key=\"1\")\n",
        "  st_lottie(load_lottieurl(links[\"process\"]),key=\"2\")\n",
        "\n",
        "with c2:\n",
        "  st.header(\"two\")\n",
        "  st_lottie(load_lottieurl(links[\"face\"]),key=\"3\")\n",
        "  st_lottie(load_lottieurl(links[\"bot-DS\"]),key=\"4\")\n",
        "\n",
        "with c3:\n",
        "  st.header(\"three\")\n",
        "  st_lottie(load_lottieurl(links[\"DS\"]),key=\"5\")\n",
        "  st_lottie(load_lottieurl(links[\"dash\"]),key=\"6\")\n",
        "\n",
        "with c4:\n",
        "  st.header(\"four\")\n",
        "  st_lottie(load_lottieurl(links[\"net\"]),key=\"7\")\n",
        "  st_lottie(load_lottieurl(links[\"chem\"]),key=\"8\")\n",
        "\n"
      ],
      "execution_count": null,
      "outputs": [
        {
          "output_type": "stream",
          "text": [
            "Writing app.py\n"
          ],
          "name": "stdout"
        }
      ]
    },
    {
      "cell_type": "code",
      "metadata": {
        "id": "FTUt5JjyDkUz",
        "colab": {
          "base_uri": "https://localhost:8080/"
        },
        "outputId": "7e974fef-b8d2-4506-a6f0-47df4313a36b"
      },
      "source": [
        "#@title This last cell would keep the app running. If stoped, the app would be disconnected.\n",
        "from pyngrok import ngrok\n",
        "public_url = ngrok.connect(port='80')\n",
        "print('Link to web app:')\n",
        "print (public_url)\n",
        "!streamlit run --server.port 80 app.py >/dev/null"
      ],
      "execution_count": null,
      "outputs": [
        {
          "output_type": "stream",
          "text": [
            "Link to web app:\n",
            "NgrokTunnel: \"http://f5e733c78bf2.ngrok.io\" -> \"http://localhost:80\"\n"
          ],
          "name": "stdout"
        }
      ]
    }
  ]
}