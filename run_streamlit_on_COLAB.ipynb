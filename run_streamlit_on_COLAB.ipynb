{
  "nbformat": 4,
  "nbformat_minor": 0,
  "metadata": {
    "colab": {
      "name": "run_streamlit_on_COLAB.ipynb",
      "provenance": [],
      "authorship_tag": "ABX9TyPCBDcr2Aju0JASUyxSS0wg",
      "include_colab_link": true
    },
    "kernelspec": {
      "name": "python3",
      "display_name": "Python 3"
    }
  },
  "cells": [
    {
      "cell_type": "markdown",
      "metadata": {
        "id": "view-in-github",
        "colab_type": "text"
      },
      "source": [
        "<a href=\"https://colab.research.google.com/github/napoles-uach/streamlit_apps/blob/main/run_streamlit_on_COLAB.ipynb\" target=\"_parent\"><img src=\"https://colab.research.google.com/assets/colab-badge.svg\" alt=\"Open In Colab\"/></a>"
      ]
    },
    {
      "cell_type": "markdown",
      "metadata": {
        "id": "kuEKXi39kJGG"
      },
      "source": [
        "After installing streamlit, you will have to \"`RESTART RUNTIME`\" by clicking a button.."
      ]
    },
    {
      "cell_type": "code",
      "metadata": {
        "id": "Wpgpwr8ii6bm"
      },
      "source": [
        "!pip install streamlit"
      ],
      "execution_count": null,
      "outputs": []
    },
    {
      "cell_type": "code",
      "metadata": {
        "id": "49cUWnTOi_Ia"
      },
      "source": [
        "!npm install localtunnel"
      ],
      "execution_count": null,
      "outputs": []
    },
    {
      "cell_type": "code",
      "metadata": {
        "id": "d0nMxNUejMRL"
      },
      "source": [
        "!streamlit run https://raw.githubusercontent.com/napoles-uach/streamlit_apps/main/Behler.py &>/dev/null&"
      ],
      "execution_count": 2,
      "outputs": []
    },
    {
      "cell_type": "code",
      "metadata": {
        "id": "QLcWTyvPjsg2"
      },
      "source": [
        "!npx localtunnel --port 8501"
      ],
      "execution_count": null,
      "outputs": []
    }
  ]
}