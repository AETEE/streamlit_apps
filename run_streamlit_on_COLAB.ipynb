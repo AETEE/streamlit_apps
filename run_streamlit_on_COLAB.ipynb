{
  "nbformat": 4,
  "nbformat_minor": 0,
  "metadata": {
    "colab": {
      "name": "run_streamlit_on_COLAB.ipynb",
      "provenance": [],
      "authorship_tag": "ABX9TyPaT5mbzuX1XgJSqQMstAqk",
      "include_colab_link": true
    },
    "kernelspec": {
      "name": "python3",
      "display_name": "Python 3"
    }
  },
  "cells": [
    {
      "cell_type": "markdown",
      "metadata": {
        "id": "view-in-github",
        "colab_type": "text"
      },
      "source": [
        "<a href=\"https://colab.research.google.com/github/napoles-uach/streamlit_apps/blob/main/run_streamlit_on_COLAB.ipynb\" target=\"_parent\"><img src=\"https://colab.research.google.com/assets/colab-badge.svg\" alt=\"Open In Colab\"/></a>"
      ]
    },
    {
      "cell_type": "code",
      "metadata": {
        "id": "IarKLHb4k6aQ"
      },
      "source": [
        "!pip install streamlit -q"
      ],
      "execution_count": null,
      "outputs": []
    },
    {
      "cell_type": "code",
      "metadata": {
        "id": "qL9LKPcck9Yz"
      },
      "source": [
        "!pip3 install \"notebook>=5.3\" \"ipywidgets>=7.2\""
      ],
      "execution_count": null,
      "outputs": []
    },
    {
      "cell_type": "code",
      "metadata": {
        "id": "qKGscd43lCsB"
      },
      "source": [
        "!wget https://bin.equinox.io/c/4VmDzA7iaHb/ngrok-stable-linux-amd64.zip\n",
        "!unzip -qq ngrok-stable-linux-amd64.zip"
      ],
      "execution_count": null,
      "outputs": []
    },
    {
      "cell_type": "code",
      "metadata": {
        "id": "0CrpJ-WHlGWB"
      },
      "source": [
        "get_ipython().system_raw('./ngrok http 8501 &')\n",
        "! curl -s http://localhost:4040/api/tunnels | python3 -c \\\n",
        "    \"import sys, json; print(json.load(sys.stdin)['tunnels'][0]['public_url'])\""
      ],
      "execution_count": null,
      "outputs": []
    },
    {
      "cell_type": "markdown",
      "metadata": {
        "id": "8fANqHVKtXf2"
      },
      "source": [
        "The link above is where you will find the Streamlit app."
      ]
    },
    {
      "cell_type": "code",
      "metadata": {
        "id": "owc4vT9KlKao"
      },
      "source": [
        "!streamlit run https://raw.githubusercontent.com/napoles-uach/streamlit_apps/main/Behler.py &>/dev/null&"
      ],
      "execution_count": 3,
      "outputs": []
    }
  ]
}