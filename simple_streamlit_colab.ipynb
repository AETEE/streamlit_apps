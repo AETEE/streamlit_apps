{
  "nbformat": 4,
  "nbformat_minor": 0,
  "metadata": {
    "colab": {
      "name": "simple_streamlit_colab",
      "provenance": [],
      "collapsed_sections": [],
      "include_colab_link": true
    },
    "kernelspec": {
      "display_name": "Python 3",
      "name": "python3"
    }
  },
  "cells": [
    {
      "cell_type": "markdown",
      "metadata": {
        "id": "view-in-github",
        "colab_type": "text"
      },
      "source": [
        "<a href=\"https://colab.research.google.com/github/napoles-uach/streamlit_apps/blob/main/simple_streamlit_colab.ipynb\" target=\"_parent\"><img src=\"https://colab.research.google.com/assets/colab-badge.svg\" alt=\"Open In Colab\"/></a>"
      ]
    },
    {
      "cell_type": "markdown",
      "metadata": {
        "id": "YueD6bxr_Ndx"
      },
      "source": [
        "Run all of the following to start the Streamlit demo!\n",
        "\n",
        "Modify with the [docs](https://docs.streamlit.io/) to prototype your own ML apps."
      ]
    },
    {
      "cell_type": "code",
      "metadata": {
        "id": "cPxfsHGb5_xh",
        "colab": {
          "base_uri": "https://localhost:8080/"
        },
        "outputId": "6ffbd0c2-8f27-4652-cea8-dfb37f5b26e8"
      },
      "source": [
        "!pip install streamlit -q"
      ],
      "execution_count": 1,
      "outputs": [
        {
          "output_type": "stream",
          "text": [
            "\u001b[K     |████████████████████████████████| 7.4MB 5.7MB/s \n",
            "\u001b[K     |████████████████████████████████| 6.9MB 47.5MB/s \n",
            "\u001b[K     |████████████████████████████████| 102kB 9.9MB/s \n",
            "\u001b[K     |████████████████████████████████| 4.5MB 47.7MB/s \n",
            "\u001b[K     |████████████████████████████████| 133kB 45.8MB/s \n",
            "\u001b[K     |████████████████████████████████| 112kB 48.8MB/s \n",
            "\u001b[K     |████████████████████████████████| 163kB 47.9MB/s \n",
            "\u001b[K     |████████████████████████████████| 143kB 48.9MB/s \n",
            "\u001b[K     |████████████████████████████████| 122kB 50.7MB/s \n",
            "\u001b[K     |████████████████████████████████| 71kB 8.0MB/s \n",
            "\u001b[K     |████████████████████████████████| 71kB 6.2MB/s \n",
            "\u001b[?25h  Building wheel for watchdog (setup.py) ... \u001b[?25l\u001b[?25hdone\n",
            "  Building wheel for blinker (setup.py) ... \u001b[?25l\u001b[?25hdone\n",
            "  Building wheel for pathtools (setup.py) ... \u001b[?25l\u001b[?25hdone\n",
            "\u001b[31mERROR: requests 2.23.0 has requirement urllib3!=1.25.0,!=1.25.1,<1.26,>=1.21.1, but you'll have urllib3 1.26.2 which is incompatible.\u001b[0m\n",
            "\u001b[31mERROR: google-colab 1.0.0 has requirement ipykernel~=4.10, but you'll have ipykernel 5.3.4 which is incompatible.\u001b[0m\n",
            "\u001b[31mERROR: datascience 0.10.6 has requirement folium==0.2.1, but you'll have folium 0.8.3 which is incompatible.\u001b[0m\n"
          ],
          "name": "stdout"
        }
      ]
    },
    {
      "cell_type": "code",
      "metadata": {
        "id": "JwRITzDxHiqb"
      },
      "source": [
        "#!pip3 install \"notebook>=5.3\" \"ipywidgets>=7.2\""
      ],
      "execution_count": 2,
      "outputs": []
    },
    {
      "cell_type": "code",
      "metadata": {
        "id": "JdjXnXJWDo1_"
      },
      "source": [
        "#from google.colab import drive\n",
        "#from google.colab import files\n",
        "#drive.mount('/content/drive')\n",
        "#import os\n",
        "#os.chdir(\"/content/drive\")\n",
        "#!ls\n",
        "\n",
        "#os.chdir(\"/content/drive/My Drive/STREAMLIT\")"
      ],
      "execution_count": 3,
      "outputs": []
    },
    {
      "cell_type": "code",
      "metadata": {
        "id": "GC3gSHfd6J9y",
        "colab": {
          "base_uri": "https://localhost:8080/"
        },
        "outputId": "72b5b40a-1ad9-4b09-baef-9545c3abebce"
      },
      "source": [
        "!wget https://bin.equinox.io/c/4VmDzA7iaHb/ngrok-stable-linux-amd64.zip\n",
        "!unzip -qq ngrok-stable-linux-amd64.zip"
      ],
      "execution_count": 4,
      "outputs": [
        {
          "output_type": "stream",
          "text": [
            "--2020-11-22 18:31:33--  https://bin.equinox.io/c/4VmDzA7iaHb/ngrok-stable-linux-amd64.zip\n",
            "Resolving bin.equinox.io (bin.equinox.io)... 54.85.41.146, 54.160.18.204, 54.224.51.10, ...\n",
            "Connecting to bin.equinox.io (bin.equinox.io)|54.85.41.146|:443... connected.\n",
            "HTTP request sent, awaiting response... 200 OK\n",
            "Length: 13773305 (13M) [application/octet-stream]\n",
            "Saving to: ‘ngrok-stable-linux-amd64.zip’\n",
            "\n",
            "ngrok-stable-linux- 100%[===================>]  13.13M  6.60MB/s    in 2.0s    \n",
            "\n",
            "2020-11-22 18:31:36 (6.60 MB/s) - ‘ngrok-stable-linux-amd64.zip’ saved [13773305/13773305]\n",
            "\n"
          ],
          "name": "stdout"
        }
      ]
    },
    {
      "cell_type": "markdown",
      "metadata": {
        "id": "oE8YZYsk-UGs"
      },
      "source": [
        "**Use the output of this command as the link to your Streamlit app.**"
      ]
    },
    {
      "cell_type": "code",
      "metadata": {
        "id": "XMOoOLFT88ku",
        "colab": {
          "base_uri": "https://localhost:8080/"
        },
        "outputId": "dd26eed8-78d8-4e6c-a2aa-a1ffc512d7dd"
      },
      "source": [
        "get_ipython().system_raw('./ngrok http 8501 &')\n",
        "! curl -s http://localhost:4040/api/tunnels | python3 -c \\\n",
        "    \"import sys, json; print(json.load(sys.stdin)['tunnels'][0]['public_url'])\""
      ],
      "execution_count": 9,
      "outputs": [
        {
          "output_type": "stream",
          "text": [
            "https://80234566fe1f.ngrok.io\n"
          ],
          "name": "stdout"
        }
      ]
    },
    {
      "cell_type": "code",
      "metadata": {
        "id": "Z7qffrKtOfrM"
      },
      "source": [
        "%%bash\n",
        "cat > testStreamlit.py <<EOF\n",
        "import streamlit as st\n",
        "st.title('Running Streamlit from COLAB')\n",
        "\n",
        "# Put your Python+Streamlit code here ...\n",
        "# you can modify it by double cliking on the folder icon at the left\n",
        "\n",
        "\n",
        "EOF\n",
        "\n"
      ],
      "execution_count": 6,
      "outputs": []
    },
    {
      "cell_type": "markdown",
      "metadata": {
        "id": "SdNVtkKn-l-z"
      },
      "source": [
        "**Ignore the output of this**"
      ]
    },
    {
      "cell_type": "code",
      "metadata": {
        "id": "KiuiUcleOglt",
        "colab": {
          "base_uri": "https://localhost:8080/"
        },
        "outputId": "0bbb85a0-f3b3-4f28-8f42-5024c32aa99f"
      },
      "source": [
        "!streamlit run testStreamlit.py"
      ],
      "execution_count": null,
      "outputs": [
        {
          "output_type": "stream",
          "text": [
            "/usr/local/lib/python3.6/dist-packages/requests/__init__.py:91: RequestsDependencyWarning: urllib3 (1.26.2) or chardet (3.0.4) doesn't match a supported version!\n",
            "  RequestsDependencyWarning)\n",
            "\u001b[0m\n",
            "\u001b[34m\u001b[1m  You can now view your Streamlit app in your browser.\u001b[0m\n",
            "\u001b[0m\n",
            "\u001b[34m  Network URL: \u001b[0m\u001b[1mhttp://172.28.0.2:8501\u001b[0m\n",
            "\u001b[34m  External URL: \u001b[0m\u001b[1mhttp://35.194.132.152:8501\u001b[0m\n",
            "\u001b[0m\n"
          ],
          "name": "stdout"
        }
      ]
    },
    {
      "cell_type": "code",
      "metadata": {
        "id": "9jT3cLmHOjAh"
      },
      "source": [
        ""
      ],
      "execution_count": null,
      "outputs": []
    }
  ]
}